{
 "cells": [
  {
   "cell_type": "markdown",
   "metadata": {},
   "source": [
    " # Рахель Марк БПМ 161\n",
    " # Лабораторная работа №2\n",
    " # Вариант 19"
   ]
  },
  {
   "cell_type": "markdown",
   "metadata": {},
   "source": [
    "# № 2.1.19"
   ]
  },
  {
   "cell_type": "markdown",
   "metadata": {},
   "source": [
    "Даны два уравнения $f(x)=0$ и $g(x)=0$. Найти методом бисекции с точностью $\\epsilon = 10^{-10}$ все корни уравнений, находящиеся на отрезке $[a,b]$. \n",
    "$$f(x) = (\\cos{x})^2-\\frac{2}{35}\\cos{x}-\\frac{1}{35}$$\n",
    "$$g(x) = (\\cos{x})^2-\\frac{2}{5}\\cos{x}+\\frac{1}{25}$$\n",
    "где $a = 0, b = 3$"
   ]
  },
  {
   "cell_type": "code",
   "execution_count": 1,
   "metadata": {
    "ExecuteTime": {
     "end_time": "2019-02-21T21:41:02.728819Z",
     "start_time": "2019-02-21T21:41:02.381829Z"
    }
   },
   "outputs": [],
   "source": [
    "import numpy as np\n",
    "import matplotlib.pyplot as plt\n",
    "%matplotlib inline\n",
    "from scipy import optimize"
   ]
  },
  {
   "cell_type": "code",
   "execution_count": 2,
   "metadata": {
    "ExecuteTime": {
     "end_time": "2019-02-21T21:41:03.020191Z",
     "start_time": "2019-02-21T21:41:02.731549Z"
    }
   },
   "outputs": [
    {
     "data": {
      "image/png": "[encoded data removed]",
      "text/plain": [
       "<Figure size 432x288 with 1 Axes>"
      ]
     },
     "metadata": {
      "needs_background": "light"
     },
     "output_type": "display_data"
    }
   ],
   "source": [
    "x = np.arange(0,3,0.0001)\n",
    "y = np.cos(x)**2 - (2/35)*np.cos(x) - 1/35\n",
    "plt.grid(True)\n",
    "plt.plot(x,y)\n",
    "plt.plot(x,x*0,'k')\n",
    "plt.show()"
   ]
  },
  {
   "cell_type": "markdown",
   "metadata": {},
   "source": [
    "Раскладывая функцию $f(x)$ на множители, получим\n",
    "$$f(x)=(\\cos{x}-\\frac{1}{5})(\\cos{x}+\\frac{1}{7})=0$$\n",
    "То есть \n",
    "$$x=\\arccos{\\frac{1}{5}}, \\quad x=\\arccos{(-\\frac{1}{7})}=\\pi-\\arccos\\frac{1}{7}$$\n",
    "Вычислим корни методом бисекции, выбрав по графику два отрезка локализации $[1,\\frac{3}{2}]$ и $[\\frac{3}{2},2]$:"
   ]
  },
  {
   "cell_type": "code",
   "execution_count": 3,
   "metadata": {
    "ExecuteTime": {
     "end_time": "2019-02-21T21:41:03.039622Z",
     "start_time": "2019-02-21T21:41:03.023174Z"
    }
   },
   "outputs": [
    {
     "name": "stdout",
     "output_type": "stream",
     "text": [
      "x1 = 1.3694384060, iterations: 32\n",
      "x2 = 1.7141438957, iterations: 32\n"
     ]
    }
   ],
   "source": [
    "def f(x):\n",
    "    return np.cos(x)**2 - (2/35)*np.cos(x) - 1/35\n",
    "def bisec(f,a,b,eps):\n",
    "    a_n=a\n",
    "    b_n=b\n",
    "    k=0\n",
    "    while (b_n-a_n)/2 > eps:\n",
    "        x_n=(a_n+b_n)/2\n",
    "        if f(a_n)*f(x_n)<=0:\n",
    "            b_n=x_n\n",
    "        else:\n",
    "            a_n=x_n\n",
    "        k+=1\n",
    "    return (a_n+b_n)/2, k\n",
    "print('x1 = %.10f, iterations: %d' %bisec(f,1,1.5,10**(-10)))\n",
    "print('x2 = %.10f, iterations: %d' %bisec(f,1.5,2,10**(-10)))"
   ]
  },
  {
   "cell_type": "markdown",
   "metadata": {},
   "source": [
    "Сравним с округленными до десятого знака значениями наших корней:"
   ]
  },
  {
   "cell_type": "code",
   "execution_count": 4,
   "metadata": {
    "ExecuteTime": {
     "end_time": "2019-02-21T21:41:03.052381Z",
     "start_time": "2019-02-21T21:41:03.045352Z"
    }
   },
   "outputs": [
    {
     "name": "stdout",
     "output_type": "stream",
     "text": [
      "1.3694384060\n",
      "1.7141438957\n"
     ]
    }
   ],
   "source": [
    "print('%.10f'%np.arccos(0.2))\n",
    "print('%.10f'%(np.pi-np.arccos(1/7)))"
   ]
  },
  {
   "cell_type": "markdown",
   "metadata": {},
   "source": [
    "Теперь посчитаем с помощью функции root:"
   ]
  },
  {
   "cell_type": "code",
   "execution_count": 5,
   "metadata": {
    "ExecuteTime": {
     "end_time": "2019-02-21T21:41:03.062859Z",
     "start_time": "2019-02-21T21:41:03.055920Z"
    }
   },
   "outputs": [
    {
     "name": "stdout",
     "output_type": "stream",
     "text": [
      "x1 = 1.3694384059\n",
      "x2 = 1.7141438955\n"
     ]
    }
   ],
   "source": [
    "root = optimize.root(f, [1,2]).x.tolist()\n",
    "print('x1 = %.10f' %(float(root[0])))\n",
    "print('x2 = %.10f' %(float(root[1])))"
   ]
  },
  {
   "cell_type": "markdown",
   "metadata": {},
   "source": [
    "Проделаем то же самое для функции $g(x)$"
   ]
  },
  {
   "cell_type": "code",
   "execution_count": 6,
   "metadata": {
    "ExecuteTime": {
     "end_time": "2019-02-21T21:41:03.231483Z",
     "start_time": "2019-02-21T21:41:03.066308Z"
    }
   },
   "outputs": [
    {
     "data": {
      "image/png": "[encoded data removed]",
      "text/plain": [
       "<Figure size 432x288 with 1 Axes>"
      ]
     },
     "metadata": {
      "needs_background": "light"
     },
     "output_type": "display_data"
    }
   ],
   "source": [
    "x = np.arange(0,3,0.0001)\n",
    "y = np.cos(x)**2 - (2/5)*np.cos(x) + 1/25\n",
    "plt.grid(True)\n",
    "plt.plot(x,y)\n",
    "plt.plot(x,x*0,'k')\n",
    "plt.show()"
   ]
  },
  {
   "cell_type": "markdown",
   "metadata": {},
   "source": [
    "Функция $g(x)$ раскладывается в полный квадрат \n",
    "$$g(x) = (\\cos{x}-\\frac{1}{5})^2=0$$\n",
    "То есть\n",
    "$$x=\\arccos{\\frac{1}{5}}$$\n",
    "По графику видно, что корень находится на отрезке $[1,\\frac{3}{2}]$. Попробуем вычислить его методом бисекции:"
   ]
  },
  {
   "cell_type": "code",
   "execution_count": 7,
   "metadata": {
    "ExecuteTime": {
     "end_time": "2019-02-21T21:41:03.241008Z",
     "start_time": "2019-02-21T21:41:03.234337Z"
    }
   },
   "outputs": [
    {
     "name": "stdout",
     "output_type": "stream",
     "text": [
      "x = 1.4999999999, iterations: 32\n"
     ]
    }
   ],
   "source": [
    "def g(x):\n",
    "    return np.cos(x)**2-(2/5)*np.cos(x)+(1/25)\n",
    "print('x = %.10f, iterations: %d' %bisec(g,1,1.5,10**(-10)))"
   ]
  },
  {
   "cell_type": "markdown",
   "metadata": {},
   "source": [
    "Далее сравним с округленным значением нашего корня:"
   ]
  },
  {
   "cell_type": "raw",
   "metadata": {
    "ExecuteTime": {
     "end_time": "2019-02-21T20:55:09.773132Z",
     "start_time": "2019-02-21T20:55:09.767494Z"
    }
   },
   "source": [
    "print('%.10f' %np.arccos(0.2))"
   ]
  },
  {
   "cell_type": "markdown",
   "metadata": {},
   "source": [
    "И с результатом вычисления с помощью функции root:"
   ]
  },
  {
   "cell_type": "code",
   "execution_count": 8,
   "metadata": {
    "ExecuteTime": {
     "end_time": "2019-02-21T21:41:03.253319Z",
     "start_time": "2019-02-21T21:41:03.244590Z"
    }
   },
   "outputs": [
    {
     "name": "stdout",
     "output_type": "stream",
     "text": [
      "x1 = 1.3694384067\n"
     ]
    }
   ],
   "source": [
    "root = optimize.root(g, [1,1.5]).x.tolist()\n",
    "print('x1 = %.10f' %(float(root[0])))"
   ]
  },
  {
   "cell_type": "markdown",
   "metadata": {},
   "source": [
    "Видно, что метод бисекции не дает верного результата, так как присутствует кратный корень, из-за чего нельзя выбрать отрезок, на котором функция будет иметь разный знак"
   ]
  },
  {
   "cell_type": "markdown",
   "metadata": {},
   "source": [
    "# № 2.2.4"
   ]
  },
  {
   "cell_type": "markdown",
   "metadata": {},
   "source": [
    "Найти наибольший по модулю корень уравнения $f(x)=0$ с точностью $\\epsilon = 10^{-6}$ методами бисекции и Ньютона\n",
    "$$f(x)=(x+1)e^{x+1}-x-2$$\n"
   ]
  },
  {
   "cell_type": "code",
   "execution_count": 9,
   "metadata": {
    "ExecuteTime": {
     "end_time": "2019-02-21T21:41:03.421221Z",
     "start_time": "2019-02-21T21:41:03.256678Z"
    }
   },
   "outputs": [
    {
     "data": {
      "image/png": "[encoded data removed]",
      "text/plain": [
       "<Figure size 432x288 with 1 Axes>"
      ]
     },
     "metadata": {
      "needs_background": "light"
     },
     "output_type": "display_data"
    }
   ],
   "source": [
    "x = np.arange(-3,0,0.0001)\n",
    "y = (x+1)*np.exp(x+1)-x-2\n",
    "plt.grid(True)\n",
    "plt.plot(x,y)\n",
    "plt.plot(x,x*0,'k')\n",
    "plt.show()"
   ]
  },
  {
   "cell_type": "markdown",
   "metadata": {},
   "source": [
    "На графике видно, что наибольший по модулю корень находится на отрезке $[-\\frac{5}{2},2]$. Вычислим его методом бисекции:"
   ]
  },
  {
   "cell_type": "code",
   "execution_count": 10,
   "metadata": {
    "ExecuteTime": {
     "end_time": "2019-02-21T21:41:03.433282Z",
     "start_time": "2019-02-21T21:41:03.424720Z"
    }
   },
   "outputs": [
    {
     "name": "stdout",
     "output_type": "stream",
     "text": [
      "x = -2.349977, iterations: 18\n"
     ]
    }
   ],
   "source": [
    "def f(x):\n",
    "    return (x+1)*np.exp(x+1)-x-2\n",
    "print('x = %.6f, iterations: %d' %bisec(f,-2.5,-2,10**(-6)))"
   ]
  },
  {
   "cell_type": "markdown",
   "metadata": {},
   "source": [
    "Затем методом Ньютона:"
   ]
  },
  {
   "cell_type": "code",
   "execution_count": 11,
   "metadata": {
    "ExecuteTime": {
     "end_time": "2019-02-21T21:41:03.444049Z",
     "start_time": "2019-02-21T21:41:03.435571Z"
    }
   },
   "outputs": [
    {
     "name": "stdout",
     "output_type": "stream",
     "text": [
      "x = -2.349977, iterations: 9\n"
     ]
    }
   ],
   "source": [
    "def d_f(x):\n",
    "    return (x+1)*np.exp(x+1)-1\n",
    "def newt(x0,f,d_f,eps):\n",
    "    k=0\n",
    "    while True:\n",
    "        x1=x0-f(x0)/d_f(x0)\n",
    "        k+=1\n",
    "        if abs(x1-x0)<eps:\n",
    "            return x1, k\n",
    "        x0=x1\n",
    "print('x = %.6f, iterations: %d' %newt(-2.5,f,d_f,10**(-6)))"
   ]
  },
  {
   "cell_type": "markdown",
   "metadata": {},
   "source": [
    "В данной задаче метод Ньютона эффективней, так как дает тот же результат за меньшее количество итераций"
   ]
  },
  {
   "cell_type": "markdown",
   "metadata": {},
   "source": [
    "# № 2.10.2"
   ]
  },
  {
   "cell_type": "markdown",
   "metadata": {},
   "source": [
    "Функция $y=f(x)$ задана неявно уравнением $F(x,y)=0$. На отрезке $[1,5]$ построить таблицу значений функции $y=f(x)$ с шагом $h=0.5$, применяя один из методов численного решения нелинейного уравнения (точность $\\epsilon=10^{-7}$) Построить график функции $y=f(x)$ на заданном отрезке\n",
    "$$F(x,y) = \\cosh(y e^y+\\frac{x}{20})+\\frac{1}{\\arctan{(20ye^y+x)}}-13=0$$\n",
    "$$1\\leq x\\leq 5, \\quad 1\\leq y \\leq \\frac{3}{2}$$"
   ]
  },
  {
   "cell_type": "markdown",
   "metadata": {},
   "source": [
    "Пройдем по отрезку $[1,5]$ с шагом $0.5$ и для каждого заданного $x^*$ будем методом бисекции находить корень уравнения $F(x^*,y)=0$, которое в таком случае будет уже уравнением от одной переменной:"
   ]
  },
  {
   "cell_type": "code",
   "execution_count": 12,
   "metadata": {
    "ExecuteTime": {
     "end_time": "2019-02-21T21:41:03.470218Z",
     "start_time": "2019-02-21T21:41:03.447470Z"
    }
   },
   "outputs": [
    {
     "name": "stdout",
     "output_type": "stream",
     "text": [
      "x = 1.0\n",
      "y = 1.0759838\n",
      "x = 1.5\n",
      "y = 1.0718653\n",
      "x = 2.0\n",
      "y = 1.0677214\n",
      "x = 2.5\n",
      "y = 1.0635518\n",
      "x = 3.0\n",
      "y = 1.0593564\n",
      "x = 3.5\n",
      "y = 1.0551346\n",
      "x = 4.0\n",
      "y = 1.0508861\n",
      "x = 4.5\n",
      "y = 1.0466107\n",
      "x = 5.0\n",
      "y = 1.0423078\n"
     ]
    }
   ],
   "source": [
    "def u(x,y):\n",
    "    return np.cosh(y*np.exp(y)+(x/20))+1/(np.arctan(20*y*np.exp(y)+x))-13\n",
    "def f(y):\n",
    "        return u(x,y)\n",
    "for x in np.arange(1,5.1,0.5):\n",
    "    print('x = %.1f' %x)\n",
    "    print('y = %.7f' %bisec(f,1,1.5,10**(-7))[0])"
   ]
  },
  {
   "cell_type": "markdown",
   "metadata": {},
   "source": [
    "Построим график, действуя таким же способом, но с меньшим шагом по $x$:"
   ]
  },
  {
   "cell_type": "code",
   "execution_count": 13,
   "metadata": {
    "ExecuteTime": {
     "end_time": "2019-02-21T21:41:05.301951Z",
     "start_time": "2019-02-21T21:41:03.473439Z"
    }
   },
   "outputs": [
    {
     "data": {
      "image/png": "[encoded data removed]",
      "text/plain": [
       "<Figure size 432x288 with 1 Axes>"
      ]
     },
     "metadata": {
      "needs_background": "light"
     },
     "output_type": "display_data"
    }
   ],
   "source": [
    "X = []\n",
    "Y = []\n",
    "j = 0\n",
    "for x in np.arange(1,5.0001,0.001):\n",
    "    X.insert(j,x)\n",
    "    Y.insert(j,bisec(f,1,1.5,10**(-7))[0])\n",
    "    j+=1\n",
    "plt.plot(X,Y)\n",
    "plt.grid(True)\n",
    "plt.show()"
   ]
  }
 ],
 "metadata": {
  "kernelspec": {
   "display_name": "Python 3",
   "language": "python",
   "name": "python3"
  },
  "language_info": {
   "codemirror_mode": {
    "name": "ipython",
    "version": 3
   },
   "file_extension": ".py",
   "mimetype": "text/x-python",
   "name": "python",
   "nbconvert_exporter": "python",
   "pygments_lexer": "ipython3",
   "version": "3.6.7"
  }
 },
 "nbformat": 4,
 "nbformat_minor": 2
}
