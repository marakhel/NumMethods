{
 "cells": [
  {
   "cell_type": "markdown",
   "metadata": {},
   "source": [
    "# Рахель Марк БПМ 161\n",
    "# Лабораторная работа №3\n",
    "# Вариант 19\n",
    "# № 3.1.19"
   ]
  },
  {
   "cell_type": "markdown",
   "metadata": {},
   "source": [
    "Дана система уравнений $Ax=b$ порядка $n$. Исследовать зависимость погрешности решения $x$ от погрешностей правой части системы $b$ \n",
    "$a_{ij}=\\frac{100}{(11+c_{ij})^5}$"
   ]
  },
  {
   "cell_type": "code",
   "execution_count": 1,
   "metadata": {
    "ExecuteTime": {
     "end_time": "2019-03-19T01:37:36.408252Z",
     "start_time": "2019-03-19T01:37:36.349904Z"
    }
   },
   "outputs": [],
   "source": [
    "import numpy as np\n",
    "import matplotlib.pyplot as plt\n",
    "np.set_printoptions(linewidth=100)"
   ]
  },
  {
   "cell_type": "code",
   "execution_count": 2,
   "metadata": {
    "ExecuteTime": {
     "end_time": "2019-03-19T01:37:36.419870Z",
     "start_time": "2019-03-19T01:37:36.411557Z"
    }
   },
   "outputs": [
    {
     "name": "stdout",
     "output_type": "stream",
     "text": [
      "[[6.20921323e-04 6.20921323e-04 6.20921323e-04 6.20921323e-04 6.20921323e-04]\n",
      " [6.20921323e-04 2.79931292e-04 1.40828782e-04 7.69870439e-05 4.49195378e-05]\n",
      " [6.20921323e-04 1.40828782e-04 4.49195378e-05 1.77320892e-05 8.10015899e-06]\n",
      " [6.20921323e-04 7.69870439e-05 1.77320892e-05 5.70779544e-06 2.26681720e-06]\n",
      " [6.20921323e-04 4.49195378e-05 8.10015899e-06 2.26681720e-06 8.22239421e-07]]\n",
      "[19, 19, 19, 19, 19]\n"
     ]
    }
   ],
   "source": [
    "n = 5\n",
    "N = 19\n",
    "A = np.ones([n,n])\n",
    "for i in range(n):\n",
    "    for j in range(n):\n",
    "        A[i][j] = 100/(11+0.1*N*i*j)**5\n",
    "print(A)\n",
    "b = [N for j in range (n)]\n",
    "print(b)"
   ]
  },
  {
   "cell_type": "markdown",
   "metadata": {},
   "source": [
    "Решаем систему"
   ]
  },
  {
   "cell_type": "code",
   "execution_count": 3,
   "metadata": {
    "ExecuteTime": {
     "end_time": "2019-03-19T01:37:36.438590Z",
     "start_time": "2019-03-19T01:37:36.424054Z"
    }
   },
   "outputs": [
    {
     "name": "stdout",
     "output_type": "stream",
     "text": [
      "[ 3.05996900e+04  9.13940942e-13 -1.02850290e-11  3.22920187e-11 -2.86306902e-11]\n"
     ]
    }
   ],
   "source": [
    "x = np.linalg.solve(A,b)\n",
    "print(x)"
   ]
  },
  {
   "cell_type": "markdown",
   "metadata": {},
   "source": [
    "Находим число обусловленности"
   ]
  },
  {
   "cell_type": "code",
   "execution_count": 4,
   "metadata": {
    "ExecuteTime": {
     "end_time": "2019-03-19T01:37:36.487310Z",
     "start_time": "2019-03-19T01:37:36.444231Z"
    }
   },
   "outputs": [
    {
     "name": "stdout",
     "output_type": "stream",
     "text": [
      "12263.523128206121\n"
     ]
    }
   ],
   "source": [
    "cond = np.linalg.cond(A)\n",
    "print(cond)"
   ]
  },
  {
   "cell_type": "markdown",
   "metadata": {},
   "source": [
    "Вычисляем вектор относительных погрешностей решений систем"
   ]
  },
  {
   "cell_type": "code",
   "execution_count": 5,
   "metadata": {
    "ExecuteTime": {
     "end_time": "2019-03-19T01:37:36.504063Z",
     "start_time": "2019-03-19T01:37:36.493290Z"
    }
   },
   "outputs": [
    {
     "name": "stdout",
     "output_type": "stream",
     "text": [
      "[[2.97042069e-07]\n",
      " [7.40179969e-06]\n",
      " [6.59537776e-05]\n",
      " [4.55340682e-05]\n",
      " [0.00000000e+00]]\n"
     ]
    }
   ],
   "source": [
    "delta = 10**(-6)\n",
    "d = []\n",
    "\n",
    "for i in range(n):\n",
    "    b_d = b\n",
    "    b_d[i] += delta\n",
    "    x_d = np.linalg.solve(A, b_d)\n",
    "    d.append(np.max(x - x_d)/np.max(x))\n",
    "    \n",
    "d = np.array(d).reshape(n,1)\n",
    "print(d)"
   ]
  },
  {
   "cell_type": "markdown",
   "metadata": {},
   "source": [
    "Определяем компоненту, имеющую наибольшее влияние на погрешность решения"
   ]
  },
  {
   "cell_type": "code",
   "execution_count": 6,
   "metadata": {
    "ExecuteTime": {
     "end_time": "2019-03-19T01:37:36.511149Z",
     "start_time": "2019-03-19T01:37:36.506120Z"
    }
   },
   "outputs": [
    {
     "name": "stdout",
     "output_type": "stream",
     "text": [
      "2 19.000001\n"
     ]
    }
   ],
   "source": [
    "print(np.argmax(d), b[np.argmax(d)])"
   ]
  },
  {
   "cell_type": "markdown",
   "metadata": {
    "ExecuteTime": {
     "end_time": "2019-03-16T02:16:55.057015Z",
     "start_time": "2019-03-16T02:16:55.049317Z"
    }
   },
   "source": [
    "Находим погрешности"
   ]
  },
  {
   "cell_type": "code",
   "execution_count": 7,
   "metadata": {
    "ExecuteTime": {
     "end_time": "2019-03-19T01:37:36.522737Z",
     "start_time": "2019-03-19T01:37:36.514860Z"
    }
   },
   "outputs": [
    {
     "name": "stdout",
     "output_type": "stream",
     "text": [
      "Теоретическая погрешность < 0.0123\n",
      "Практическая погрешность = 0.0001\n"
     ]
    }
   ],
   "source": [
    "print(\"Теоретическая погрешность <\", round(cond*delta, 4))\n",
    "print(\"Практическая погрешность =\", float(d[np.argmax(d)].round(4)))"
   ]
  },
  {
   "cell_type": "markdown",
   "metadata": {},
   "source": [
    "Теоретическая погрешность больше практической, т.к. является лишь оценкой"
   ]
  },
  {
   "cell_type": "markdown",
   "metadata": {},
   "source": [
    "# № 3.3.5"
   ]
  },
  {
   "cell_type": "markdown",
   "metadata": {},
   "source": [
    "Найти число обусловленности матрицы $A$, используя вычислительный эксперимент"
   ]
  },
  {
   "cell_type": "markdown",
   "metadata": {},
   "source": [
    "Задаем матрицу"
   ]
  },
  {
   "cell_type": "code",
   "execution_count": 8,
   "metadata": {
    "ExecuteTime": {
     "end_time": "2019-03-19T01:37:36.535626Z",
     "start_time": "2019-03-19T01:37:36.526355Z"
    }
   },
   "outputs": [
    {
     "name": "stdout",
     "output_type": "stream",
     "text": [
      "[[  1.   1.   1.   1.   1.]\n",
      " [ 16.   8.   4.   2.   1.]\n",
      " [ 81.  27.   9.   3.   1.]\n",
      " [256.  64.  16.   4.   1.]\n",
      " [625. 125.  25.   5.   1.]]\n"
     ]
    }
   ],
   "source": [
    "A = np.ones([5,5])\n",
    "for i in range(5):\n",
    "    for j in range (5):\n",
    "        A[i,j] = (i+1)**(4-j)\n",
    "print(A)"
   ]
  },
  {
   "cell_type": "markdown",
   "metadata": {},
   "source": [
    "Выбираем линейнонезависимые вектора вида $b_1 = (1,0,0,0,0), ... ,b_5=(0,0,0,0,1)$ и решаем систему с этими векторами в правой части"
   ]
  },
  {
   "cell_type": "code",
   "execution_count": 9,
   "metadata": {
    "ExecuteTime": {
     "end_time": "2019-03-19T01:37:36.546464Z",
     "start_time": "2019-03-19T01:37:36.538768Z"
    }
   },
   "outputs": [],
   "source": [
    "sol = []\n",
    "for i in range(5):\n",
    "    tmp = np.zeros(5)\n",
    "    tmp[i] = 1\n",
    "    sol.append(np.linalg.solve(A,tmp))\n",
    "sol = np.array(sol)\n",
    "#print(sol)"
   ]
  },
  {
   "cell_type": "markdown",
   "metadata": {},
   "source": [
    "Для каждого из решений вычисляем отношение нормы решения к норме вектора правой части"
   ]
  },
  {
   "cell_type": "code",
   "execution_count": 10,
   "metadata": {
    "ExecuteTime": {
     "end_time": "2019-03-19T01:37:36.557499Z",
     "start_time": "2019-03-19T01:37:36.549569Z"
    }
   },
   "outputs": [
    {
     "name": "stdout",
     "output_type": "stream",
     "text": [
      "[8.67567640654681, 22.791323885295924, 25.285865616980995, 13.35830993967616, 2.764482069233114]\n"
     ]
    }
   ],
   "source": [
    "ratio = []\n",
    "for i in sol:\n",
    "    ratio.append(np.sqrt(np.sum(i**2)))\n",
    "print(ratio)"
   ]
  },
  {
   "cell_type": "markdown",
   "metadata": {},
   "source": [
    "Затем находим норму обратной матрицы"
   ]
  },
  {
   "cell_type": "code",
   "execution_count": 11,
   "metadata": {
    "ExecuteTime": {
     "end_time": "2019-03-19T01:37:36.566404Z",
     "start_time": "2019-03-19T01:37:36.560660Z"
    }
   },
   "outputs": [
    {
     "name": "stdout",
     "output_type": "stream",
     "text": [
      "25.285865616980995\n"
     ]
    }
   ],
   "source": [
    "norm_rev = np.max(np.array(ratio))\n",
    "print(norm_rev)"
   ]
  },
  {
   "cell_type": "markdown",
   "metadata": {},
   "source": [
    "И норму исходной матрицы"
   ]
  },
  {
   "cell_type": "code",
   "execution_count": 12,
   "metadata": {
    "ExecuteTime": {
     "end_time": "2019-03-19T01:37:36.580383Z",
     "start_time": "2019-03-19T01:37:36.569836Z"
    }
   },
   "outputs": [
    {
     "name": "stdout",
     "output_type": "stream",
     "text": [
      "680.4256021050354\n"
     ]
    }
   ],
   "source": [
    "Anorm = []\n",
    "for i in range(n):\n",
    "    tmp = np.zeros(n)\n",
    "    tmp[i] = 1\n",
    "    Anorm.append(np.sqrt(np.sum((np.dot(A,np.array(tmp)))**2)))\n",
    "                      \n",
    "norm = np.max(np.array(Anorm))\n",
    "print(norm)"
   ]
  },
  {
   "cell_type": "markdown",
   "metadata": {},
   "source": [
    "Получаем число обусловленности"
   ]
  },
  {
   "cell_type": "code",
   "execution_count": 13,
   "metadata": {
    "ExecuteTime": {
     "end_time": "2019-03-19T01:37:36.588939Z",
     "start_time": "2019-03-19T01:37:36.583610Z"
    }
   },
   "outputs": [
    {
     "name": "stdout",
     "output_type": "stream",
     "text": [
      "17205.150337181305\n"
     ]
    }
   ],
   "source": [
    "cond = norm*norm_rev\n",
    "print(cond)"
   ]
  },
  {
   "cell_type": "markdown",
   "metadata": {},
   "source": [
    "# №3.7"
   ]
  },
  {
   "cell_type": "markdown",
   "metadata": {},
   "source": [
    "Исследовать зависимость числа обусловленности матрицы $A$ задачи 3.1 от порядка $n$ матрицы"
   ]
  },
  {
   "cell_type": "markdown",
   "metadata": {},
   "source": [
    "Реализуем $LU$-разложение"
   ]
  },
  {
   "cell_type": "code",
   "execution_count": 14,
   "metadata": {
    "ExecuteTime": {
     "end_time": "2019-03-19T01:37:36.602034Z",
     "start_time": "2019-03-19T01:37:36.592199Z"
    }
   },
   "outputs": [],
   "source": [
    "def pivot_matrix(M):\n",
    "    m = len(M)\n",
    "    id_mat = [[float(i ==j) for i in range(m)] for j in range(m)]\n",
    "    for j in range(m):\n",
    "        row = max(range(j, m), key=lambda i: abs(M[i][j]))\n",
    "        if j != row:\n",
    "            id_mat[j], id_mat[row] = id_mat[row], id_mat[j]\n",
    "    return np.array(id_mat)"
   ]
  },
  {
   "cell_type": "code",
   "execution_count": 15,
   "metadata": {
    "ExecuteTime": {
     "end_time": "2019-03-19T01:37:36.619801Z",
     "start_time": "2019-03-19T01:37:36.604632Z"
    }
   },
   "outputs": [],
   "source": [
    "def plu(A):\n",
    "    m = len(A)\n",
    "    L = [[0.0] * m for i in range(m)]\n",
    "    U = [[0.0] * m for i in range(m)]\n",
    "    P = pivot_matrix(A)\n",
    "    P.reshape(m,m)\n",
    "    PA = P@A\n",
    "    for j in range(m):\n",
    "        L[j][j] = 1.\n",
    "        for i in range(j+1):\n",
    "            s1 = sum(U[k][j] * L[i][k] for k in range(i))\n",
    "            U[i][j] = PA[i][j] - s1\n",
    "        for i in range(j, m):\n",
    "            s2 = sum(U[k][j] * L[i][k] for k in range(j))\n",
    "            L[i][j] = (PA[i][j] - s2) / U[j][j]\n",
    "    return (P, L, U)"
   ]
  },
  {
   "cell_type": "markdown",
   "metadata": {},
   "source": [
    "Проверим его на примере"
   ]
  },
  {
   "cell_type": "code",
   "execution_count": 16,
   "metadata": {
    "ExecuteTime": {
     "end_time": "2019-03-19T01:37:36.636604Z",
     "start_time": "2019-03-19T01:37:36.622296Z"
    },
    "scrolled": false
   },
   "outputs": [
    {
     "name": "stdout",
     "output_type": "stream",
     "text": [
      "Test: \n",
      " [[ 7  4  6]\n",
      " [-2  5  1]\n",
      " [ 6  6 -2]]\n",
      "P: \n",
      " [[1. 0. 0.]\n",
      " [0. 0. 1.]\n",
      " [0. 1. 0.]]\n",
      "L: \n",
      " [[ 1.          0.          0.        ]\n",
      " [ 0.85714286  1.          0.        ]\n",
      " [-0.28571429  2.38888889  1.        ]]\n",
      "U: \n",
      " [[ 7.          4.          6.        ]\n",
      " [ 0.          2.57142857 -7.14285714]\n",
      " [ 0.          0.         19.77777778]]\n",
      "PA: \n",
      " [[ 7.  4.  6.]\n",
      " [ 6.  6. -2.]\n",
      " [-2.  5.  1.]]\n",
      "P:(-1)*L*U: \n",
      " [[ 7.  4.  6.]\n",
      " [-2.  5.  1.]\n",
      " [ 6.  6. -2.]]\n"
     ]
    }
   ],
   "source": [
    "test = np.array([[7, 4, 6], [-2, 5, 1], [6, 6, -2]])\n",
    "print('Test:','\\n', test)\n",
    "\n",
    "p_test, l_test, u_test = plu(test)\n",
    "print('P:', '\\n', np.array(p_test))\n",
    "print('L:', '\\n', np.array(l_test))\n",
    "print('U:', '\\n', np.array(u_test))\n",
    "print('PA:', '\\n', np.dot(l_test, u_test))\n",
    "print('P:(-1)*L*U:', '\\n',np.dot(np.linalg.inv(p_test),np.dot(l_test,u_test)))"
   ]
  },
  {
   "cell_type": "markdown",
   "metadata": {},
   "source": [
    "Функция решения системы уравнений с помощью $LU$-разложения"
   ]
  },
  {
   "cell_type": "code",
   "execution_count": 17,
   "metadata": {
    "ExecuteTime": {
     "end_time": "2019-03-19T01:37:36.651789Z",
     "start_time": "2019-03-19T01:37:36.640617Z"
    }
   },
   "outputs": [],
   "source": [
    "def sol_lu(matrix, b):\n",
    "    P, L, U = plu(matrix)\n",
    "    b_gauss = np.linalg.inv(L)@P@b\n",
    "    return np.linalg.solve(U, b_gauss)"
   ]
  },
  {
   "cell_type": "markdown",
   "metadata": {},
   "source": [
    "Функция построения обратной матрицы"
   ]
  },
  {
   "cell_type": "code",
   "execution_count": 18,
   "metadata": {
    "ExecuteTime": {
     "end_time": "2019-03-19T01:37:36.669264Z",
     "start_time": "2019-03-19T01:37:36.661363Z"
    }
   },
   "outputs": [],
   "source": [
    "def Inverse(matrix, n):\n",
    "    inverse = []\n",
    "    ide = np.diag([1.0]*n)\n",
    "    try:\n",
    "        for line in ide:\n",
    "            inverse.append(sol_lu(matrix, line))\n",
    "    except np.linalg.LinAlgError:\n",
    "        print('Singular matrix... Can not handle it')\n",
    "    return np.array(inverse).transpose()"
   ]
  },
  {
   "cell_type": "markdown",
   "metadata": {},
   "source": [
    "Проверка этой функции"
   ]
  },
  {
   "cell_type": "code",
   "execution_count": 19,
   "metadata": {
    "ExecuteTime": {
     "end_time": "2019-03-19T01:37:36.677331Z",
     "start_time": "2019-03-19T01:37:36.672786Z"
    }
   },
   "outputs": [],
   "source": [
    "test = np.array([[4, 5, 6], [-23, 23, 0], [0, 0, 1]])"
   ]
  },
  {
   "cell_type": "code",
   "execution_count": 20,
   "metadata": {
    "ExecuteTime": {
     "end_time": "2019-03-19T01:37:36.702300Z",
     "start_time": "2019-03-19T01:37:36.680883Z"
    }
   },
   "outputs": [
    {
     "data": {
      "text/plain": [
       "array([[ 0.11111111, -0.02415459, -0.66666667],\n",
       "       [ 0.11111111,  0.01932367, -0.66666667],\n",
       "       [ 0.        ,  0.        ,  1.        ]])"
      ]
     },
     "execution_count": 20,
     "metadata": {},
     "output_type": "execute_result"
    }
   ],
   "source": [
    "a = Inverse(test, 3)\n",
    "a"
   ]
  },
  {
   "cell_type": "code",
   "execution_count": 21,
   "metadata": {
    "ExecuteTime": {
     "end_time": "2019-03-19T01:37:36.713602Z",
     "start_time": "2019-03-19T01:37:36.705756Z"
    }
   },
   "outputs": [
    {
     "data": {
      "text/plain": [
       "array([[ 0.11111111, -0.02415459, -0.66666667],\n",
       "       [ 0.11111111,  0.01932367, -0.66666667],\n",
       "       [ 0.        ,  0.        ,  1.        ]])"
      ]
     },
     "execution_count": 21,
     "metadata": {},
     "output_type": "execute_result"
    }
   ],
   "source": [
    "b = np.linalg.inv(test)\n",
    "b"
   ]
  },
  {
   "cell_type": "markdown",
   "metadata": {},
   "source": [
    "Функция создания матрицы в зависимости от ее размера"
   ]
  },
  {
   "cell_type": "code",
   "execution_count": 22,
   "metadata": {
    "ExecuteTime": {
     "end_time": "2019-03-19T01:37:36.721383Z",
     "start_time": "2019-03-19T01:37:36.715880Z"
    }
   },
   "outputs": [],
   "source": [
    "def create(n):\n",
    "    A = np.ones([n,n])\n",
    "    for i in range(n):\n",
    "        for j in range(n):\n",
    "            A[i,j] = 100/(11+0.1*N*i*j)**5\n",
    "    return A"
   ]
  },
  {
   "cell_type": "markdown",
   "metadata": {},
   "source": [
    "Находим числа обусловленности"
   ]
  },
  {
   "cell_type": "code",
   "execution_count": 23,
   "metadata": {},
   "outputs": [
    {
     "data": {
      "text/plain": [
       "[1.0,\n",
       " 5.656115589779908,\n",
       " 39.06184661686761,\n",
       " 497.90323757278264,\n",
       " 12263.523128206121]"
      ]
     },
     "execution_count": 23,
     "metadata": {},
     "output_type": "execute_result"
    }
   ],
   "source": [
    "all_cond = []\n",
    "for j in range(1,n+1):\n",
    "    all_cond.append(np.linalg.cond(create(j)))\n",
    "all_cond"
   ]
  },
  {
   "cell_type": "markdown",
   "metadata": {},
   "source": [
    "Строим график"
   ]
  },
  {
   "cell_type": "code",
   "execution_count": 24,
   "metadata": {},
   "outputs": [
    {
     "data": {
      "image/png": "[encoded data removed]",
      "text/plain": [
       "<Figure size 432x288 with 1 Axes>"
      ]
     },
     "metadata": {
      "needs_background": "light"
     },
     "output_type": "display_data"
    }
   ],
   "source": [
    "plt.plot(all_cond)\n",
    "plt.grid()\n",
    "plt.show()   "
   ]
  }
 ],
 "metadata": {
  "kernelspec": {
   "display_name": "Python 3",
   "language": "python",
   "name": "python3"
  },
  "language_info": {
   "codemirror_mode": {
    "name": "ipython",
    "version": 3
   },
   "file_extension": ".py",
   "mimetype": "text/x-python",
   "name": "python",
   "nbconvert_exporter": "python",
   "pygments_lexer": "ipython3",
   "version": "3.7.3"
  }
 },
 "nbformat": 4,
 "nbformat_minor": 2
}
